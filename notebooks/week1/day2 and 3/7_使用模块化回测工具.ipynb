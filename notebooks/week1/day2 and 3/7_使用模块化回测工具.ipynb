{
 "cells": [
  {
   "cell_type": "markdown",
   "metadata": {},
   "source": [
    "# Day 2：基于交易量的量化指标 - 使用模块化回测工具\n",
    "\n",
    "本notebook展示如何使用我们封装的回测工具模块来进行更系统化、专业化的回测。这是对原始notebook `6_使用Backtrader进行回测.ipynb` 的重构版本，使用了模块化的设计来提高代码的可重用性。"
   ]
  },
  {
   "cell_type": "markdown",
   "metadata": {},
   "source": [
    "## 1. 环境准备和导入模块\n",
    "\n",
    "首先导入我们封装的回测工具模块以及其他必要的库："
   ]
  },
  {
   "cell_type": "code",
   "execution_count": null,
   "metadata": {},
   "outputs": [],
   "source": [
    "# 导入基础库\n",
    "import pandas as pd\n",
    "import numpy as np\n",
    "import matplotlib.pyplot as plt\n",
    "import backtrader as bt\n",
    "import warnings\n",
    "import os\n",
    "\n",
    "# 导入回测工具模块\n",
    "from utils import get_ts_data, df_to_btfeed, run_backtest\n",
    "from utils import BaseStrategy, VolumeBreakoutStrategy\n",
    "from utils import plot_performance_analysis, plot_backtest_results\n",
    "from utils import optimize_ma_strategy\n",
    "\n",
    "# 忽略警告\n",
    "warnings.filterwarnings('ignore')\n",
    "\n",
    "# 设置显示选项\n",
    "plt.style.use('seaborn-v0_8')\n",
    "pd.set_option('display.max_columns', None)"
   ]
  },
  {
   "cell_type": "markdown",
   "metadata": {},
   "source": [
    "## 2. 获取数据\n",
    "\n",
    "使用 `get_ts_data` 函数从Tushare获取股票数据或从本地加载已有数据："
   ]
  },
  {
   "cell_type": "code",
   "execution_count": null,
   "metadata": {},
   "outputs": [],
   "source": [
    "# 设置Tushare Token - 请替换为你自己的token\n",
    "ts_token = 'your_tushare_token'  # 替换为你的token\n",
    "ts_code = '000001.SZ'\n",
    "start_date = '2020-01-01'\n",
    "end_date = '2022-01-01'\n",
    "\n",
    "# 优先从本地加载数据\n",
    "data_dir = './data'\n",
    "os.makedirs(data_dir, exist_ok=True)\n",
    "data_file = f'{data_dir}/{ts_code}-{start_date}-{end_date}-30min.csv'\n",
    "\n",
    "if os.path.exists(data_file):\n",
    "    df = pd.read_csv(data_file, parse_dates=['trade_time'])\n",
    "    print(f\"从本地文件加载数据: {data_file}\")\n",
    "else:\n",
    "    # 如果本地文件不存在，则从Tushare获取\n",
    "    df = get_ts_data(ts_token, ts_code, start_date, end_date, freq='30min')\n",
    "\n",
    "# 显示数据信息\n",
    "df.head()"
   ]
  },
  {
   "cell_type": "markdown",
   "metadata": {},
   "source": [
    "## 3. 数据预处理\n",
    "\n",
    "对数据进行必要的预处理，以供回测使用："
   ]
  },
  {
   "cell_type": "code",
   "execution_count": null,
   "metadata": {},
   "outputs": [],
   "source": [
    "# 确保数据按时间排序\n",
    "df = df.sort_values('trade_time').reset_index(drop=True)\n",
    "\n",
    "# 查看数据统计信息\n",
    "print(f\"数据时间范围: {df['trade_time'].min()} 至 {df['trade_time'].max()}\")\n",
    "print(f\"共 {len(df)} 条记录\")\n",
    "print(f\"数据列: {df.columns.tolist()}\")\n",
    "\n",
    "# 显示基本统计信息\n",
    "df.describe()"
   ]
  },
  {
   "cell_type": "markdown",
   "metadata": {},
   "source": [
    "## 4. 执行基本回测\n",
    "\n",
    "使用 `VolumeBreakoutStrategy` 策略进行回测："
   ]
  },
  {
   "cell_type": "code",
   "execution_count": null,
   "metadata": {},
   "outputs": [],
   "source": [
    "# 定义回测参数\n",
    "strategy_params = {\n",
    "    'volume_period': 20,   # 交易量均线周期\n",
    "    'volume_mult': 2.0,    # 交易量倍数阈值\n",
    "    'exit_bars': 5,        # 持有周期\n",
    "    'stop_loss': 0.05,     # 止损比例\n",
    "    'take_profit': 0.10    # 止盈比例\n",
    "}\n",
    "\n",
    "# 执行回测\n",
    "results, strategy = run_backtest(\n",
    "    df=df, \n",
    "    strategy_class=VolumeBreakoutStrategy, \n",
    "    strategy_params=strategy_params,\n",
    "    initial_cash=100000,\n",
    "    commission=0.001\n",
    ")"
   ]
  },
  {
   "cell_type": "markdown",
   "metadata": {},
   "source": [
    "## 5. 可视化回测结果\n",
    "\n",
    "使用 `plot_backtest_results` 和 `plot_performance_analysis` 函数可视化回测结果："
   ]
  },
  {
   "cell_type": "code",
   "execution_count": null,
   "metadata": {},
   "outputs": [],
   "source": [
    "# 绘制回测结果\n",
    "fig = plot_backtest_results(df, results, max_candles=200)\n",
    "fig.show()"
   ]
  },
  {
   "cell_type": "code",
   "execution_count": null,
   "metadata": {},
   "outputs": [],
   "source": [
    "# 绘制性能分析图表\n",
    "fig, table = plot_performance_analysis(results)\n",
    "fig.show()\n",
    "table.show()"
   ]
  },
  {
   "cell_type": "markdown",
   "metadata": {},
   "source": [
    "## 6. 参数优化\n",
    "\n",
    "使用 `optimize_ma_strategy` 函数进行移动平均策略的参数优化："
   ]
  },
  {
   "cell_type": "code",
   "execution_count": null,
   "metadata": {},
   "outputs": [],
   "source": [
    "# 将数据转换为Backtrader适用的格式\n",
    "bt_data = df_to_btfeed(df)\n",
    "\n",
    "# 定义参数优化范围\n",
    "ma_short_range = (5, 20)   # 短期均线范围\n",
    "ma_long_range = (20, 50)   # 长期均线范围\n",
    "step = 5                   # 步长\n",
    "\n",
    "# 执行参数优化\n",
    "opt_results = optimize_ma_strategy(\n",
    "    data=bt_data,\n",
    "    ma_short_range=ma_short_range,\n",
    "    ma_long_range=ma_long_range,\n",
    "    step=step,\n",
    "    commission=0.001,\n",
    "    initial_cash=100000\n",
    ")\n",
    "\n",
    "# 显示优化结果\n",
    "opt_results.head(10)"
   ]
  },
  {
   "cell_type": "markdown",
   "metadata": {},
   "source": [
    "## 7. 自定义策略回测\n",
    "\n",
    "基于 `BaseStrategy` 创建自定义策略并进行回测："
   ]
  },
  {
   "cell_type": "code",
   "execution_count": null,
   "metadata": {},
   "outputs": [],
   "source": [
    "# 定义自定义策略\n",
    "class CustomStrategy(BaseStrategy):\n",
    "    params = (\n",
    "        ('ma_period', 20),      # 移动平均周期\n",
    "        ('rsi_period', 14),     # RSI周期\n",
    "        ('rsi_overbought', 70), # RSI超买水平\n",
    "        ('rsi_oversold', 30),   # RSI超卖水平\n",
    "        # 继承BaseStrategy的参数\n",
    "        ('log_level', BaseStrategy.LOG_LEVEL_INFO),\n",
    "        ('collect_signals', True),\n",
    "    )\n",
    "    \n",
    "    def __init__(self):\n",
    "        # 调用父类初始化\n",
    "        BaseStrategy.__init__(self)\n",
    "        \n",
    "        # 添加指标\n",
    "        self.ma = bt.indicators.SMA(self.data.close, period=self.params.ma_period)\n",
    "        self.rsi = bt.indicators.RSI(self.data.close, period=self.params.rsi_period)\n",
    "    \n",
    "    def next(self):\n",
    "        # 如果没有持仓\n",
    "        if not self.position:\n",
    "            # 当价格在MA之上且RSI超卖时买入\n",
    "            if self.data.close[0] > self.ma[0] and self.rsi[0] < self.params.rsi_oversold:\n",
    "                # 计算可购买的最大股数\n",
    "                max_shares = self.calc_max_shares(self.data.close[0])\n",
    "                if max_shares > 0:\n",
    "                    self.log(f'买入信号: 价格={self.data.close[0]:.2f}, 数量={max_shares}, RSI={self.rsi[0]:.2f}')\n",
    "                    self.buy(size=max_shares)\n",
    "                    self.bar_executed = len(self)\n",
    "                    self.buy_price = self.data.close[0]\n",
    "        \n",
    "        # 如果有持仓\n",
    "        else:\n",
    "            current_position_size = self.position.size\n",
    "            \n",
    "            # 当价格在MA之下或RSI超买时卖出\n",
    "            if self.data.close[0] < self.ma[0] or self.rsi[0] > self.params.rsi_overbought:\n",
    "                self.log(f'卖出信号: 价格={self.data.close[0]:.2f}, 持仓数量={current_position_size}, RSI={self.rsi[0]:.2f}')\n",
    "                self.close()\n",
    "                return\n",
    "            \n",
    "            # 止损: 亏损超过5%\n",
    "            if self.data.close[0] < self.buy_price * 0.95:\n",
    "                self.log(f'止损卖出: 价格={self.data.close[0]:.2f}, 持仓数量={current_position_size}')\n",
    "                self.close()\n",
    "                return"
   ]
  },
  {
   "cell_type": "code",
   "execution_count": null,
   "metadata": {},
   "outputs": [],
   "source": [
    "# 执行自定义策略回测\n",
    "custom_params = {\n",
    "    'ma_period': 20,\n",
    "    'rsi_period': 14,\n",
    "    'rsi_overbought': 70,\n",
    "    'rsi_oversold': 30\n",
    "}\n",
    "\n",
    "custom_results, custom_strategy = run_backtest(\n",
    "    df=df, \n",
    "    strategy_class=CustomStrategy, \n",
    "    strategy_params=custom_params,\n",
    "    initial_cash=100000,\n",
    "    commission=0.001\n",
    ")"
   ]
  },
  {
   "cell_type": "code",
   "execution_count": null,
   "metadata": {},
   "outputs": [],
   "source": [
    "# 可视化自定义策略回测结果\n",
    "fig = plot_backtest_results(df, custom_results, max_candles=200, title='自定义MA+RSI策略回测结果')\n",
    "fig.show()"
   ]
  },
  {
   "cell_type": "markdown",
   "metadata": {},
   "source": [
    "## 8. 比较多种策略\n",
    "\n",
    "比较不同策略的性能："
   ]
  },
  {
   "cell_type": "code",
   "execution_count": null,
   "metadata": {},
   "outputs": [],
   "source": [
    "# 创建一个表格比较两种策略的性能\n",
    "comparison = pd.DataFrame([\n",
    "    {\n",
    "        '策略': '交易量突破策略',\n",
    "        '总收益率(%)': results['total_return'],\n",
    "        '最大回撤(%)': results['max_drawdown'],\n",
    "        '夏普比率': results['sharpe_ratio'],\n",
    "        '交易次数': results['total_trades'],\n",
    "        '胜率(%)': results['winning_trades'] / max(1, results['total_trades']) * 100\n",
    "    },\n",
    "    {\n",
    "        '策略': '自定义MA+RSI策略',\n",
    "        '总收益率(%)': custom_results['total_return'],\n",
    "        '最大回撤(%)': custom_results['max_drawdown'],\n",
    "        '夏普比率': custom_results['sharpe_ratio'],\n",
    "        '交易次数': custom_results['total_trades'],\n",
    "        '胜率(%)': custom_results['winning_trades'] / max(1, custom_results['total_trades']) * 100\n",
    "    }\n",
    "])\n",
    "\n",
    "comparison"
   ]
  },
  {
   "cell_type": "markdown",
   "metadata": {},
   "source": [
    "## 9. 总结和后续优化方向\n",
    "\n",
    "本notebook展示了如何使用我们封装的回测工具模块进行量化交易策略的回测和评估。通过使用模块化的设计，我们能够：\n",
    "\n",
    "1. **提高代码重用性**：封装常用函数和类，避免重复编写代码\n",
    "2. **增强可维护性**：模块化设计使代码更易于维护和更新\n",
    "3. **简化工作流程**：通过简单的函数调用完成复杂的回测任务\n",
    "\n",
    "### 后续优化方向：\n",
    "\n",
    "- **添加更多策略**：开发更多的交易策略类，如网格交易、动量策略等\n",
    "- **改进评估指标**：加入更多评估指标，如卡玛比率、索提诺比率等\n",
    "- **多资产回测**：支持同时对多个资产进行回测\n",
    "- **实时数据接入**：添加实时数据源的支持，为实盘交易做准备\n",
    "- **机器学习集成**：与机器学习模型集成，实现预测驱动的交易策略"
   ]
  }
 ],
 "metadata": {
  "kernelspec": {
   "display_name": "quant",
   "language": "python",
   "name": "python3"
  },
  "language_info": {
   "codemirror_mode": {
    "name": "ipython",
    "version": 3
   },
   "file_extension": ".py",
   "mimetype": "text/x-python",
   "name": "python",
   "nbconvert_exporter": "python",
   "pygments_lexer": "ipython3",
   "version": "3.9.21"
  }
 },
 "nbformat": 4,
 "nbformat_minor": 4
}
